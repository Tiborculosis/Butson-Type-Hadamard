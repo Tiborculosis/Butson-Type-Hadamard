{
 "cells": [
  {
   "cell_type": "markdown",
   "id": "1f24ba3d",
   "metadata": {},
   "source": [
    "Pseudocode for Permutation Core Butson-Type Complex Hadamard Matrices:\n",
    "\n",
    "* Select dimension $n$ for matrix\n",
    "* Generate multiples of $\\Phi_n(x)$ with sum of coefficient magnitudes equal to $n$\n",
    "* Normalize so that they're all positive coefficients by multiplying by $x^{n/2}$ for the negative ones"
   ]
  },
  {
   "cell_type": "code",
   "execution_count": null,
   "id": "d6b44445",
   "metadata": {},
   "outputs": [],
   "source": []
  }
 ],
 "metadata": {
  "kernelspec": {
   "display_name": "SageMath",
   "language": "python",
   "name": "sagemath"
  },
  "language_info": {
   "codemirror_mode": {
    "name": "ipython",
    "version": 3
   },
   "file_extension": ".py",
   "mimetype": "text/x-python",
   "name": "python",
   "nbconvert_exporter": "python",
   "pygments_lexer": "ipython3",
   "version": "3.11.13"
  }
 },
 "nbformat": 4,
 "nbformat_minor": 5
}
